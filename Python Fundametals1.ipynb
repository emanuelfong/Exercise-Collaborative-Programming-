{
 "cells": [
  {
   "cell_type": "markdown",
   "id": "60521835-5156-411b-80e0-50c55bda227c",
   "metadata": {},
   "source": [
    "1. **Conditional expressions** are a type of expression in code that evaluates a condition by using the variables \"if\", \"elif\", or \"else\". \n",
    "Here is a simple example of a conditional expression to calculate how many pints of lemonade will not be sold. until they are out. They can only sell about 30 pints of lemonade everyday."
   ]
  },
  {
   "cell_type": "code",
   "execution_count": 17,
   "id": "79cb8d98-58f0-4ab2-8df8-55a5d1c32e20",
   "metadata": {},
   "outputs": [],
   "source": [
    "def lemonade(pints):\n",
    "    return 0 if pints <= 30 else (pints - 30)"
   ]
  },
  {
   "cell_type": "code",
   "execution_count": 14,
   "id": "2d3119fa-fbe3-45bc-b68a-870b48f297d8",
   "metadata": {},
   "outputs": [
    {
     "data": {
      "text/plain": [
       "0"
      ]
     },
     "execution_count": 14,
     "metadata": {},
     "output_type": "execute_result"
    }
   ],
   "source": [
    "lemonade(30)"
   ]
  },
  {
   "cell_type": "code",
   "execution_count": 18,
   "id": "5075eed4-063e-4aad-9be9-0e84575c61f4",
   "metadata": {},
   "outputs": [
    {
     "data": {
      "text/plain": [
       "20"
      ]
     },
     "execution_count": 18,
     "metadata": {},
     "output_type": "execute_result"
    }
   ],
   "source": [
    "lemonade(50)"
   ]
  },
  {
   "cell_type": "markdown",
   "id": "eea9369b-1106-4654-9174-530f32c4bd30",
   "metadata": {},
   "source": [
    "2. To pass keyword arguments to a function we use the **kwargs argument**. We use the double asterisk before the name of the parameter to indicate what type of argument it is."
   ]
  },
  {
   "cell_type": "code",
   "execution_count": 33,
   "id": "da76d4e8-253a-4b15-ae43-0dd30d09ccf6",
   "metadata": {},
   "outputs": [],
   "source": [
    "def favorite_color(**data):\n",
    "    print(\"\\nData type of argument:\", type(data))\n",
    "    \n",
    "    for key, value in data.items():\n",
    "        print(\"{} is {}\".format(key,value))\n",
    "    \n",
    "    favorite_color(Bluelover=\"Patricia\" , Orangelover=\"Aaron\")\n",
    "    favorite_color(Purplelover=\"Mark\")\n",
    "    favorite_color(RedLover= \"Andrew\")"
   ]
  },
  {
   "cell_type": "markdown",
   "id": "0996209a-0d97-4409-afd7-e6bf127faf35",
   "metadata": {},
   "source": [
    "3. To define functions with optional parameters, we can use a **dictionary** to store the information that we want to store about each variable we are using in our code. The example I use is to remind myself how much homework I have do on everyday of the week."
   ]
  },
  {
   "cell_type": "code",
   "execution_count": 38,
   "id": "21e11d4f-1d31-46ee-b2d4-eadbe963250c",
   "metadata": {},
   "outputs": [
    {
     "name": "stdout",
     "output_type": "stream",
     "text": [
      "3x Monday assignments\n",
      "4x Tuesday assignments\n",
      "0x Wenesday assignments\n",
      "0x Thursday assignments\n",
      "6x Friday assignments\n"
     ]
    }
   ],
   "source": [
    "homework_duringtheweek = {\n",
    "    \"Monday assignments\": 3,\n",
    "    \"Tuesday assignments\" : 4,\n",
    "    \"Wenesday assignments\": 0,\n",
    "    \"Thursday assignments\": 0,\n",
    "    \"Friday assignments\": 6,\n",
    "}\n",
    "def show_week():\n",
    "    for work_amount, quantity in homework_duringtheweek.items():\n",
    "        print(f\"{quantity}x {work_amount}\")\n",
    "show_week()"
   ]
  },
  {
   "cell_type": "code",
   "execution_count": null,
   "id": "cfacf85c-c7a2-4b13-9702-4a484c667df5",
   "metadata": {},
   "outputs": [],
   "source": []
  }
 ],
 "metadata": {
  "kernelspec": {
   "display_name": "Python 3 (ipykernel)",
   "language": "python",
   "name": "python3"
  },
  "language_info": {
   "codemirror_mode": {
    "name": "ipython",
    "version": 3
   },
   "file_extension": ".py",
   "mimetype": "text/x-python",
   "name": "python",
   "nbconvert_exporter": "python",
   "pygments_lexer": "ipython3",
   "version": "3.10.6"
  }
 },
 "nbformat": 4,
 "nbformat_minor": 5
}
