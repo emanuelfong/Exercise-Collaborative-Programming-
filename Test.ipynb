{
 "cells": [
  {
   "cell_type": "code",
   "execution_count": 2,
   "metadata": {},
   "outputs": [
    {
     "name": "stdout",
     "output_type": "stream",
     "text": [
      "Please insert an interger between 1 and 5. With 1 being not relating at all, and 5 being relating strongly.\n"
     ]
    },
    {
     "ename": "TypeError",
     "evalue": "bad operand type for abs(): 'str'",
     "output_type": "error",
     "traceback": [
      "\u001b[1;31m---------------------------------------------------------------------------\u001b[0m",
      "\u001b[1;31mTypeError\u001b[0m                                 Traceback (most recent call last)",
      "\u001b[1;32mc:\\Users\\Asher\\OneDrive\\Documents\\GitHub\\Final-Project\\Test.ipynb Cell 1\u001b[0m in \u001b[0;36m<cell line: 8>\u001b[1;34m()\u001b[0m\n\u001b[0;32m     <a href='vscode-notebook-cell:/c%3A/Users/Asher/OneDrive/Documents/GitHub/Final-Project/Test.ipynb#W0sZmlsZQ%3D%3D?line=28'>29</a>\u001b[0m         agree\u001b[39m.\u001b[39mappend(ans)\n\u001b[0;32m     <a href='vscode-notebook-cell:/c%3A/Users/Asher/OneDrive/Documents/GitHub/Final-Project/Test.ipynb#W0sZmlsZQ%3D%3D?line=29'>30</a>\u001b[0m     \u001b[39melif\u001b[39;00m add_or_sub \u001b[39m==\u001b[39m \u001b[39m\"\u001b[39m\u001b[39m-\u001b[39m\u001b[39m\"\u001b[39m:\n\u001b[1;32m---> <a href='vscode-notebook-cell:/c%3A/Users/Asher/OneDrive/Documents/GitHub/Final-Project/Test.ipynb#W0sZmlsZQ%3D%3D?line=30'>31</a>\u001b[0m         agree\u001b[39m.\u001b[39mappend(\u001b[39m-\u001b[39m\u001b[39mabs\u001b[39;49m(ans))\n\u001b[0;32m     <a href='vscode-notebook-cell:/c%3A/Users/Asher/OneDrive/Documents/GitHub/Final-Project/Test.ipynb#W0sZmlsZQ%3D%3D?line=31'>32</a>\u001b[0m \u001b[39melif\u001b[39;00m personality \u001b[39m==\u001b[39m \u001b[39m'\u001b[39m\u001b[39mC\u001b[39m\u001b[39m'\u001b[39m:\n\u001b[0;32m     <a href='vscode-notebook-cell:/c%3A/Users/Asher/OneDrive/Documents/GitHub/Final-Project/Test.ipynb#W0sZmlsZQ%3D%3D?line=32'>33</a>\u001b[0m     \u001b[39mif\u001b[39;00m add_or_sub \u001b[39m==\u001b[39m \u001b[39m\"\u001b[39m\u001b[39m+\u001b[39m\u001b[39m\"\u001b[39m:\n",
      "\u001b[1;31mTypeError\u001b[0m: bad operand type for abs(): 'str'"
     ]
    }
   ],
   "source": [
    "extra = []\n",
    "agree = []\n",
    "con = []\n",
    "emo = []\n",
    "im = []\n",
    "print(\"Please insert an interger between 1 and 5. With 1 being not \"\n",
    "              \"relating at all, and 5 being relating strongly.\")\n",
    "with open ('PersonalityTest.txt', \"r\", encoding = \"utf-8\") as f:\n",
    "    for line in f:\n",
    "        ans = \" \"\n",
    "        question = line.split(\",\")[0]\n",
    "        add_or_sub = line.split(\",\")[1]\n",
    "        personality =  line.split(\",\")[2]\n",
    "        personality = personality[0]\n",
    "        while ans is not str:\n",
    "            ans = input(f\"{question} \")\n",
    "            try:\n",
    "                ans = int(ans)\n",
    "            except ValueError:\n",
    "                print(\"Please input an integer between 1 and 5.\")\n",
    "        #Needs to make sure it is an int.\n",
    "        if personality == 'E':\n",
    "            if add_or_sub == \"+\":\n",
    "                extra.append(ans)\n",
    "            elif add_or_sub == \"-\":\n",
    "                extra.append(-abs(ans))\n",
    "        elif personality == 'A':\n",
    "            if add_or_sub == \"+\":\n",
    "                agree.append(ans)\n",
    "            elif add_or_sub == \"-\":\n",
    "                agree.append(-abs(ans))\n",
    "        elif personality == 'C':\n",
    "            if add_or_sub == \"+\":\n",
    "                con.append(ans)\n",
    "            elif add_or_sub == \"-\":\n",
    "                con.append(-abs(ans))\n",
    "        elif personality == 'S':\n",
    "            if add_or_sub == \"+\":\n",
    "                emo.append(ans)\n",
    "            elif add_or_sub == \"-\":\n",
    "                emo.append(-abs(ans))\n",
    "        elif personality == 'I':\n",
    "            if add_or_sub == \"+\":\n",
    "                im.append(ans)\n",
    "            elif add_or_sub == \"-\":\n",
    "                im.append(-abs(ans))\n",
    "\n",
    "        \n",
    "dictofAnswers = {'Extraversion': extra, 'Agreeableness': agree, \n",
    "                        'Conscientiousness' : con, 'Emotional Stability': emo, \n",
    "                        \"Intellect\": im}\n",
    "                \n",
    "dictofScores = {'Extraversion': sum(extra), 'Agreeableness': sum(agree), \n",
    "                        'Conscientiousness' : sum(con), 'Emotional Stability': sum(emo), \n",
    "                        \"Intellect\": sum(im)}\n",
    "\n",
    "print(dictofAnswers)\n",
    "print(dictofScores)"
   ]
  }
 ],
 "metadata": {
  "kernelspec": {
   "display_name": "Python 3.10.6 64-bit",
   "language": "python",
   "name": "python3"
  },
  "language_info": {
   "codemirror_mode": {
    "name": "ipython",
    "version": 3
   },
   "file_extension": ".py",
   "mimetype": "text/x-python",
   "name": "python",
   "nbconvert_exporter": "python",
   "pygments_lexer": "ipython3",
   "version": "3.10.6"
  },
  "orig_nbformat": 4,
  "vscode": {
   "interpreter": {
    "hash": "33f25320136895269129cd2ed934c5172931c6ea249807b9fe2fd55508be5a59"
   }
  }
 },
 "nbformat": 4,
 "nbformat_minor": 2
}
