{
 "cells": [
  {
   "cell_type": "markdown",
   "id": "110351f4-3e04-48c8-a851-f9003c235a06",
   "metadata": {},
   "source": [
    "1. **Sequence unpacking** is the ability to store objects in variables that you can always go back to and use later in your code.\n",
    "Example:"
   ]
  },
  {
   "cell_type": "code",
   "execution_count": 4,
   "id": "bb7fdad7-2386-43b5-aeb6-b51fc1b6b629",
   "metadata": {},
   "outputs": [
    {
     "name": "stdout",
     "output_type": "stream",
     "text": [
      "10/03/2022 , 8:00 , 1600\n"
     ]
    }
   ],
   "source": [
    "Monday_run = \"10/03/2022 , 8:00 , 1600\"\n",
    "date , pace , feet = Monday_run.split(\" , \")\n",
    "print(Monday_run)"
   ]
  },
  {
   "cell_type": "code",
   "execution_count": 11,
   "id": "6be4775a-2dd0-40d4-bf5f-0324f5e13ee4",
   "metadata": {},
   "outputs": [
    {
     "name": "stdout",
     "output_type": "stream",
     "text": [
      "{'UMD': 'Terrapin', 'PennState': 'NittanyLion', 'Michigan': 'Wolverine', 'Michigan State': 'Spartan', 'OhioState': 'Buckeyes', 'Wisconsin': 'Badgers'}\n"
     ]
    }
   ],
   "source": [
    "dict()\n",
    "mascots = {\"UMD\": \"Terrapin\",\n",
    "           \"PennState\": \"NittanyLion\",\n",
    "           \"Michigan\": \"Wolverine\",\n",
    "            \"Michigan State\": \"Spartan\",\n",
    "            \"OhioState\": \"Buckeyes\"}\n",
    "mascots[\"Wisconsin\"] = \"Badgers\"\n",
    "print(mascots)\n",
    "           "
   ]
  },
  {
   "cell_type": "code",
   "execution_count": 14,
   "id": "c68c64ff-8a51-4b68-8871-5db4bc4c1403",
   "metadata": {},
   "outputs": [
    {
     "name": "stdout",
     "output_type": "stream",
     "text": [
      "Spartan\n"
     ]
    }
   ],
   "source": [
    "print(mascots.get(\"NorfolkState\", \"Spartan\"))"
   ]
  },
  {
   "cell_type": "markdown",
   "id": "a8823fc7-a928-4e5f-a21a-fa5ac8bceb0a",
   "metadata": {},
   "source": [
    "The **union method** gives the user the ability to return a set that contains all items from it's original set and all the items of the chosen set."
   ]
  },
  {
   "cell_type": "code",
   "execution_count": 16,
   "id": "626c12c6-b8dd-4f27-9b13-8b1d93d9d73a",
   "metadata": {},
   "outputs": [
    {
     "name": "stdout",
     "output_type": "stream",
     "text": [
      "{'PennState', 'UCLA', 'Oregon', 'Rutgers', 'UMD', 'Stanford'}\n"
     ]
    }
   ],
   "source": [
    "Big10 = {\"UMD\" , \"PennState\" , \"Rutgers\"}\n",
    "Pac10 = {\"Stanford\" , \"Oregon\" , \"UCLA\"}\n",
    "DifferentConferences = Big10.union(Pac10)\n",
    "print(DifferentConferences)"
   ]
  },
  {
   "cell_type": "code",
   "execution_count": null,
   "id": "1f3345a5-56f0-4b4c-ace3-a086dac5e7ad",
   "metadata": {},
   "outputs": [],
   "source": []
  }
 ],
 "metadata": {
  "kernelspec": {
   "display_name": "Python 3 (ipykernel)",
   "language": "python",
   "name": "python3"
  },
  "language_info": {
   "codemirror_mode": {
    "name": "ipython",
    "version": 3
   },
   "file_extension": ".py",
   "mimetype": "text/x-python",
   "name": "python",
   "nbconvert_exporter": "python",
   "pygments_lexer": "ipython3",
   "version": "3.10.6"
  }
 },
 "nbformat": 4,
 "nbformat_minor": 5
}
