{
 "cells": [
  {
   "cell_type": "code",
   "execution_count": 6,
   "metadata": {},
   "outputs": [
    {
     "name": "stdout",
     "output_type": "stream",
     "text": [
      "Please input an integer between 1 and 5.\n",
      "Please input an integer between 1 and 5.\n",
      "Please input an integer between 1 and 5.\n",
      "Please input an integer between 1 and 5.\n",
      "Please input an integer between 1 and 5.\n",
      "Please input an integer between 1 and 5.\n",
      "Please input an integer between 1 and 5.\n",
      "Please input an integer between 1 and 5.\n",
      "Please input an integer between 1 and 5.\n",
      "Please input an integer between 1 and 5.\n",
      "Please input an integer between 1 and 5.\n",
      "Please input an integer between 1 and 5.\n",
      "Please input an integer between 1 and 5.\n",
      "Please input an integer between 1 and 5.\n",
      "Please input an integer between 1 and 5.\n",
      "Please input an integer between 1 and 5.\n",
      "Please input an integer between 1 and 5.\n",
      "Please input an integer between 1 and 5.\n",
      "Please input an integer between 1 and 5.\n"
     ]
    }
   ],
   "source": [
    "extra = []\n",
    "agree = []\n",
    "con = []\n",
    "emo = []\n",
    "im = []\n",
    "                \n",
    "with open ('PersonalityTest.txt', \"r\", encoding = \"utf-8\") as f:\n",
    "    for line in f:\n",
    "        ans = \" \"\n",
    "        question = line.split(\",\")[0]\n",
    "        add_or_sub = line.split(\",\")[1]\n",
    "        personality =  line.split(\",\")[2]\n",
    "        personality = personality[0]\n",
    "        while ans is not str:\n",
    "            ans = input(f\"{question} \")\n",
    "            try:\n",
    "                ans = int(ans)\n",
    "                if (ans > 5) or (ans < 0):\n",
    "                    ans = \" \"\n",
    "                    print(\"Please input an integer between 1 and 5.\")\n",
    "            except ValueError:\n",
    "                print(\"Please input an integer between 1 and 5.\")\n",
    "        #Needs to make sure it is an int.\n",
    "        if personality == 'E':\n",
    "            if add_or_sub == \"+\":\n",
    "                extra.append(ans)\n",
    "            elif add_or_sub == \"-\":\n",
    "                extra.append(-abs(ans))\n",
    "        elif personality == 'A':\n",
    "            if add_or_sub == \"+\":\n",
    "                agree.append(ans)\n",
    "            elif add_or_sub == \"-\":\n",
    "                agree.append(-abs(ans))\n",
    "        elif personality == 'C':\n",
    "            if add_or_sub == \"+\":\n",
    "                con.append(ans)\n",
    "            elif add_or_sub == \"-\":\n",
    "                con.append(-abs(ans))\n",
    "        elif personality == 'S':\n",
    "            if add_or_sub == \"+\":\n",
    "                emo.append(ans)\n",
    "            elif add_or_sub == \"-\":\n",
    "                emo.append(-abs(ans))\n",
    "        elif personality == 'I':\n",
    "            if add_or_sub == \"+\":\n",
    "                im.append(ans)\n",
    "            elif add_or_sub == \"-\":\n",
    "                im.append(-abs(ans))\n",
    "\n",
    "        \n",
    "dictofAnswers = {'Extraversion': extra, 'Agreeableness': agree, \n",
    "                        'Conscientiousness' : con, 'Emotional Stability': emo, \n",
    "                        \"Intellect\": im}\n",
    "                \n",
    "dictofScores = {'Extraversion': sum(extra), 'Agreeableness': sum(agree), \n",
    "                        'Conscientiousness' : sum(con), 'Emotional Stability': sum(emo), \n",
    "                        \"Intellect\": sum(im)}\n",
    "\n",
    "print(dictofAnswers)\n",
    "print(dictofScores)"
   ]
  }
 ],
 "metadata": {
  "kernelspec": {
   "display_name": "Python 3.10.6 64-bit",
   "language": "python",
   "name": "python3"
  },
  "language_info": {
   "codemirror_mode": {
    "name": "ipython",
    "version": 3
   },
   "file_extension": ".py",
   "mimetype": "text/x-python",
   "name": "python",
   "nbconvert_exporter": "python",
   "pygments_lexer": "ipython3",
   "version": "3.10.6"
  },
  "orig_nbformat": 4,
  "vscode": {
   "interpreter": {
    "hash": "33f25320136895269129cd2ed934c5172931c6ea249807b9fe2fd55508be5a59"
   }
  }
 },
 "nbformat": 4,
 "nbformat_minor": 2
}
