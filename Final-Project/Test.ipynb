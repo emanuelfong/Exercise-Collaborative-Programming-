{
 "cells": [
  {
   "cell_type": "code",
   "execution_count": 15,
   "metadata": {},
   "outputs": [
    {
     "name": "stdout",
     "output_type": "stream",
     "text": [
      "{'Extraversion': [], 'Agreeableness': [], 'Conscientiousness': [], 'Emotional Stability': [], 'Intellect': [5]}\n",
      "{'Extraversion': 0, 'Agreeableness': 0, 'Conscientiousness': 0, 'Emotional Stability': 0, 'Intellect': 5}\n"
     ]
    }
   ],
   "source": [
    "E = []\n",
    "A = []\n",
    "C = []\n",
    "ES = []\n",
    "I = []\n",
    "        \n",
    "with open ('Final-Project\\PersonalityTest.txt', \"r\", encoding = \"utf-8\") as f:\n",
    "    for line in f:\n",
    "        ans = 0\n",
    "        question = line.split(\",\", 2)[0]\n",
    "        add_or_sub = line.split(\",\" ,2)[1]\n",
    "        personality =  line.split(\",\" ,2)[2]\n",
    "        ans = input(f\"{question} \")\n",
    "        ans = int(ans)\n",
    "        #Needs to make sure it is an int.\n",
    "        if personality == 'E':\n",
    "            if add_or_sub == \"+\":\n",
    "                E.append(ans)\n",
    "            elif add_or_sub == \"-\":\n",
    "                E.append(ans)\n",
    "        elif personality == 'A':\n",
    "            if add_or_sub == \"+\":\n",
    "                A.append(ans)\n",
    "            elif add_or_sub == \"-\":\n",
    "                A.append(ans)\n",
    "        elif personality == 'C':\n",
    "            if add_or_sub == \"+\":\n",
    "                C.append(ans)\n",
    "            elif add_or_sub == \"-\":\n",
    "                C.append(ans)\n",
    "        elif personality == 'ES':\n",
    "            if add_or_sub == \"+\":\n",
    "                ES.append(ans)\n",
    "            elif add_or_sub == \"-\":\n",
    "                ES.append(ans)\n",
    "        elif personality == 'I':\n",
    "            if add_or_sub == \"+\":\n",
    "                I.append(ans)\n",
    "            elif add_or_sub == \"-\":\n",
    "                I.append(ans)\n",
    "            \n",
    "     \n",
    "dictofAnswers = {'Extraversion': E, 'Agreeableness': A, \n",
    "                'Conscientiousness' : C, 'Emotional Stability': ES, \n",
    "                \"Intellect\": I}\n",
    "        \n",
    "dictofScores = {'Extraversion': sum(E), 'Agreeableness': sum(A), \n",
    "                'Conscientiousness' : sum(C), 'Emotional Stability': sum(ES), \n",
    "                \"Intellect\": sum(I)}\n",
    "\n",
    "print(dictofAnswers)\n",
    "print(dictofScores)"
   ]
  }
 ],
 "metadata": {
  "kernelspec": {
   "display_name": "Python 3.10.6 64-bit",
   "language": "python",
   "name": "python3"
  },
  "language_info": {
   "codemirror_mode": {
    "name": "ipython",
    "version": 3
   },
   "file_extension": ".py",
   "mimetype": "text/x-python",
   "name": "python",
   "nbconvert_exporter": "python",
   "pygments_lexer": "ipython3",
   "version": "3.10.6"
  },
  "orig_nbformat": 4,
  "vscode": {
   "interpreter": {
    "hash": "33f25320136895269129cd2ed934c5172931c6ea249807b9fe2fd55508be5a59"
   }
  }
 },
 "nbformat": 4,
 "nbformat_minor": 2
}
