{
 "cells": [
  {
   "cell_type": "markdown",
   "id": "58ad49f2-bd51-4efc-a3f2-cda5598cc453",
   "metadata": {},
   "source": [
    "Regular expression including words that start with \"t\" but excludes \"e\"."
   ]
  },
  {
   "cell_type": "code",
   "execution_count": 3,
   "id": "81e5dc4f-e6ae-4c00-bae0-6f94ffa8a77e",
   "metadata": {},
   "outputs": [
    {
     "data": {
      "text/plain": [
       "' [t|^e]'"
      ]
     },
     "execution_count": 3,
     "metadata": {},
     "output_type": "execute_result"
    }
   ],
   "source": [
    "import re \n",
    "r\" [t|^e]\""
   ]
  },
  {
   "cell_type": "code",
   "execution_count": 5,
   "id": "4d1c282d-65b1-480d-b64c-49e500ec5454",
   "metadata": {},
   "outputs": [
    {
     "name": "stdout",
     "output_type": "stream",
     "text": [
      "<re.Match object; span=(0, 1), match='t'>\n",
      "Yes!\n"
     ]
    }
   ],
   "source": [
    "txt = \"top , tawny\"\n",
    "y = re.search(\"\\At\", txt)\n",
    "print(y)\n",
    "if y:\n",
    "    print(\"Yes!\")\n",
    "else:\n",
    "    print(None)"
   ]
  },
  {
   "cell_type": "code",
   "execution_count": null,
   "id": "84f3831c-e827-4f2b-b05e-9ae1cacf1eda",
   "metadata": {},
   "outputs": [],
   "source": []
  }
 ],
 "metadata": {
  "kernelspec": {
   "display_name": "Python 3 (ipykernel)",
   "language": "python",
   "name": "python3"
  },
  "language_info": {
   "codemirror_mode": {
    "name": "ipython",
    "version": 3
   },
   "file_extension": ".py",
   "mimetype": "text/x-python",
   "name": "python",
   "nbconvert_exporter": "python",
   "pygments_lexer": "ipython3",
   "version": "3.10.6"
  }
 },
 "nbformat": 4,
 "nbformat_minor": 5
}
