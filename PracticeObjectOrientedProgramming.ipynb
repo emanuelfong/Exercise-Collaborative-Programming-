{
 "cells": [
  {
   "cell_type": "markdown",
   "id": "69709d5d-6aec-46a6-93ba-4016e90454e8",
   "metadata": {},
   "source": [
    "1. **Classes** in python define data types. They allow us to combine data and functionality to create objects."
   ]
  },
  {
   "cell_type": "markdown",
   "id": "5ca85a22-62d3-472d-aa5a-8f8a3b4219f5",
   "metadata": {},
   "source": [
    "2. **Methods** are functions that belong to an object. These functions consist of properties and behaviors that are used to describe the codes' behavior "
   ]
  },
  {
   "cell_type": "markdown",
   "id": "29a51811-543f-4847-9e4c-a66124a9295b",
   "metadata": {},
   "source": [
    "3. **Attributes**  are functions that also belong to an object. Unlike methods, these functions consists of the properties of the object."
   ]
  },
  {
   "cell_type": "code",
   "execution_count": 4,
   "id": "d0a8cc99-4552-46ec-aa37-ee425538edcd",
   "metadata": {},
   "outputs": [
    {
     "name": "stdout",
     "output_type": "stream",
     "text": [
      "I need to add Eggs to my list.\n"
     ]
    }
   ],
   "source": [
    "class Grocerylist:\n",
    "    def grocery(self):\n",
    "        print(f\"I need to add {self.name} to my list.\")\n",
    "        \n",
    "        \n",
    "e = Grocerylist()\n",
    "e.name = \"Eggs\"\n",
    "m = Grocerylist()\n",
    "m.name = \"Milk\"\n",
    "e.grocery()"
   ]
  },
  {
   "cell_type": "code",
   "execution_count": null,
   "id": "ae248796-7116-436d-bb2a-8d48ab078556",
   "metadata": {},
   "outputs": [],
   "source": []
  }
 ],
 "metadata": {
  "kernelspec": {
   "display_name": "Python 3 (ipykernel)",
   "language": "python",
   "name": "python3"
  },
  "language_info": {
   "codemirror_mode": {
    "name": "ipython",
    "version": 3
   },
   "file_extension": ".py",
   "mimetype": "text/x-python",
   "name": "python",
   "nbconvert_exporter": "python",
   "pygments_lexer": "ipython3",
   "version": "3.10.6"
  }
 },
 "nbformat": 4,
 "nbformat_minor": 5
}
