{
 "cells": [
  {
   "cell_type": "markdown",
   "id": "611bccd5-b24c-4ed8-ae1c-8c2f4f641dba",
   "metadata": {},
   "source": [
    "1. What is a **DataFrame**?"
   ]
  },
  {
   "cell_type": "markdown",
   "id": "2b07dae6-711f-48b7-bffb-3e31b55be88e",
   "metadata": {},
   "source": [
    "A **DataFrame** is a two-dimensional data with an index where its columns are Series. These columns have labels and positions for each one. Also each row has a label from the index and a postion."
   ]
  },
  {
   "cell_type": "code",
   "execution_count": 2,
   "id": "691e0fb7-b230-48a8-ad96-49d87ff34924",
   "metadata": {},
   "outputs": [
    {
     "name": "stdout",
     "output_type": "stream",
     "text": [
      "       Severity        City          County State  Temperature(F)  \\\n",
      "0             2  Canonsburg   Washington_PA    PA            48.2   \n",
      "1             3   Inglewood  Los Angeles_CA    CA            64.0   \n",
      "2             2   Oceanside    San Diego_CA    CA            48.0   \n",
      "3             2     Sisters    Deschutes_OR    OR            57.0   \n",
      "4             2  Tuscaloosa   Tuscaloosa_AL    AL            57.0   \n",
      "...         ...         ...             ...   ...             ...   \n",
      "19995         2   Los Gatos  Santa Clara_CA    CA            63.0   \n",
      "19996         2     Yaphank      Suffolk_NY    NY            26.1   \n",
      "19997         2    Ooltewah     Hamilton_TN    TN            71.0   \n",
      "19998         3   Lexington   Rockbridge_VA    VA            34.0   \n",
      "19999         3   San Diego    San Diego_CA    CA            55.9   \n",
      "\n",
      "       Humidity(%)  Visibility(mi)  Wind_Speed(mph)  Precipitation(in)  \\\n",
      "0               93            10.0              3.5               0.00   \n",
      "1               48            10.0             12.7               0.00   \n",
      "2               80            10.0              0.0               0.00   \n",
      "3               40            10.0             18.4               0.00   \n",
      "4               89             6.0              5.8               0.02   \n",
      "...            ...             ...              ...                ...   \n",
      "19995           81            10.0             11.5               0.00   \n",
      "19996           78            10.0             15.0               0.00   \n",
      "19997           87            10.0              0.0               0.00   \n",
      "19998           99            10.0             26.0               0.01   \n",
      "19999           37            10.0              9.2               0.00   \n",
      "\n",
      "      Weather_Condition  Junction   Stop  Traffic_Signal   daytime  \n",
      "0            Light Rain     False  False           False       day  \n",
      "1                 Clear     False  False           False       day  \n",
      "2         Partly Cloudy     False  False           False     night  \n",
      "3         Mostly Cloudy     False  False           False       day  \n",
      "4              Overcast     False  False           False       day  \n",
      "...                 ...       ...    ...             ...       ...  \n",
      "19995             Clear     False  False           False  twilight  \n",
      "19996          Overcast     False  False           False     night  \n",
      "19997              Fair     False  False            True  twilight  \n",
      "19998    Cloudy / Windy     False  False           False       day  \n",
      "19999  Scattered Clouds     False  False           False       day  \n",
      "\n",
      "[20000 rows x 14 columns]\n"
     ]
    }
   ],
   "source": [
    "import pandas as pd\n",
    "\n",
    "df = pd.read_csv(\"Car Accidents.csv\")\n",
    "\n",
    "print(df)"
   ]
  },
  {
   "cell_type": "code",
   "execution_count": 8,
   "id": "a4bc4ef2-eba7-489c-a5a9-c868c7996760",
   "metadata": {},
   "outputs": [
    {
     "name": "stdout",
     "output_type": "stream",
     "text": [
      "                  City  Traffic_Signal   daytime\n",
      "1            Inglewood           False       day\n",
      "3              Sisters           False       day\n",
      "4           Tuscaloosa           False       day\n",
      "5            Lancaster           False       day\n",
      "6               Dallas            True     night\n",
      "...                ...             ...       ...\n",
      "19993            Miami           False       day\n",
      "19994  Fort Lauderdale            True     night\n",
      "19995        Los Gatos           False  twilight\n",
      "19997         Ooltewah            True  twilight\n",
      "19999        San Diego           False       day\n",
      "\n",
      "[14983 rows x 3 columns]\n"
     ]
    }
   ],
   "source": [
    "filter = df[\"Temperature(F)\"] > 50.0\n",
    "bad_weather_df= df[filter]\n",
    "cols = [\"City\",\"Traffic_Signal\" , \"daytime\"]\n",
    "bad_weather = bad_weather_df[cols]\n",
    "print(bad_weather)"
   ]
  },
  {
   "cell_type": "markdown",
   "id": "5753d37f-dbdb-4e5d-a83a-a35a725da98d",
   "metadata": {},
   "source": [
    "This code shows how I used **Boolean Indexing** to filter my dataframe to specific columns. I wanted to know where in the data an accident occured when the temperature was less than 50 degrees Farhenheit. I set a filter to do just that and I then told my code to show me the \"City\"(what city where the accident occured), \"Traffic Signal\"(if there was a traffic signal there), and \"Daytime\"(if the accident occured during the ay or night)."
   ]
  },
  {
   "cell_type": "code",
   "execution_count": 14,
   "id": "377ddf27-4220-4d73-8eee-dbfa39b0b232",
   "metadata": {},
   "outputs": [
    {
     "name": "stdout",
     "output_type": "stream",
     "text": [
      "       Visibility(mi)  Wind_Speed(mph)\n",
      "0                10.0              3.5\n",
      "1                10.0             12.7\n",
      "2                10.0              0.0\n",
      "3                10.0             18.4\n",
      "4                 6.0              5.8\n",
      "...               ...              ...\n",
      "19995            10.0             11.5\n",
      "19996            10.0             15.0\n",
      "19997            10.0              0.0\n",
      "19998            10.0             26.0\n",
      "19999            10.0              9.2\n",
      "\n",
      "[20000 rows x 2 columns]\n"
     ]
    }
   ],
   "source": [
    "Column_label = df.loc[:,\"Visibility(mi)\":\"Wind_Speed(mph)\"]\n",
    "print(Column_label)"
   ]
  },
  {
   "cell_type": "markdown",
   "id": "fb234140-f46c-4507-bc03-81e33b655eb6",
   "metadata": {},
   "source": [
    "The code above shows I got a column from my DataFrame. I wanted to get the two columns \"Visibility\" and \"Wind Speed\". I used the .loc syantax to extract the two columns from the DataFrame by putting both names of the two columns in one parameter."
   ]
  },
  {
   "cell_type": "code",
   "execution_count": null,
   "id": "96416750-34f4-4392-aab0-f25dc3f6860e",
   "metadata": {},
   "outputs": [],
   "source": []
  }
 ],
 "metadata": {
  "kernelspec": {
   "display_name": "Python 3 (ipykernel)",
   "language": "python",
   "name": "python3"
  },
  "language_info": {
   "codemirror_mode": {
    "name": "ipython",
    "version": 3
   },
   "file_extension": ".py",
   "mimetype": "text/x-python",
   "name": "python",
   "nbconvert_exporter": "python",
   "pygments_lexer": "ipython3",
   "version": "3.10.6"
  }
 },
 "nbformat": 4,
 "nbformat_minor": 5
}
