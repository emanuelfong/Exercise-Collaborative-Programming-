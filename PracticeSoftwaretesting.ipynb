{
 "cells": [
  {
   "cell_type": "markdown",
   "id": "f518d3de-98e0-422e-97b2-cc844def593d",
   "metadata": {},
   "source": [
    "1. **Assert Statements** are statements that tells Python to verify an expression. They are boolean expressions that check if conditions are true or not.\n",
    "Here is an example of my assert statement telling me thst I did not code my list correctly."
   ]
  },
  {
   "cell_type": "code",
   "execution_count": 8,
   "id": "0dbaaa19-2d4d-4a80-98a7-8743b5928b1e",
   "metadata": {},
   "outputs": [
    {
     "name": "stdout",
     "output_type": "stream",
     "text": [
      "Average of nums2: 43.6\n"
     ]
    },
    {
     "ename": "AssertionError",
     "evalue": "List is empty.",
     "output_type": "error",
     "traceback": [
      "\u001b[1;31m---------------------------------------------------------------------------\u001b[0m",
      "\u001b[1;31mAssertionError\u001b[0m                            Traceback (most recent call last)",
      "Input \u001b[1;32mIn [8]\u001b[0m, in \u001b[0;36m<cell line: 9>\u001b[1;34m()\u001b[0m\n\u001b[0;32m      6\u001b[0m \u001b[38;5;28mprint\u001b[39m(\u001b[38;5;124m\"\u001b[39m\u001b[38;5;124mAverage of nums2:\u001b[39m\u001b[38;5;124m\"\u001b[39m,avg(nums2))\n\u001b[0;32m      8\u001b[0m nums1 \u001b[38;5;241m=\u001b[39m []\n\u001b[1;32m----> 9\u001b[0m \u001b[38;5;28mprint\u001b[39m(\u001b[38;5;124m\"\u001b[39m\u001b[38;5;124mAverage of nums1:\u001b[39m\u001b[38;5;124m\"\u001b[39m,\u001b[43mavg\u001b[49m\u001b[43m(\u001b[49m\u001b[43mnums1\u001b[49m\u001b[43m)\u001b[49m)\n",
      "Input \u001b[1;32mIn [8]\u001b[0m, in \u001b[0;36mavg\u001b[1;34m(nums)\u001b[0m\n\u001b[0;32m      1\u001b[0m \u001b[38;5;28;01mdef\u001b[39;00m \u001b[38;5;21mavg\u001b[39m(nums):\n\u001b[1;32m----> 2\u001b[0m     \u001b[38;5;28;01massert\u001b[39;00m \u001b[38;5;28mlen\u001b[39m(nums) \u001b[38;5;241m!=\u001b[39m \u001b[38;5;241m0\u001b[39m,\u001b[38;5;124m\"\u001b[39m\u001b[38;5;124mList is empty.\u001b[39m\u001b[38;5;124m\"\u001b[39m\n\u001b[0;32m      3\u001b[0m     \u001b[38;5;28;01mreturn\u001b[39;00m \u001b[38;5;28msum\u001b[39m(nums)\u001b[38;5;241m/\u001b[39m\u001b[38;5;28mlen\u001b[39m(nums)\n",
      "\u001b[1;31mAssertionError\u001b[0m: List is empty."
     ]
    }
   ],
   "source": [
    "def avg(nums):\n",
    "    assert len(nums) != 0,\"List is empty.\"\n",
    "    return sum(nums)/len(nums)\n",
    "\n",
    "nums2 = [47, 59, 20, 38, 54]\n",
    "print(\"Average of nums2:\",avg(nums2))\n",
    "\n",
    "nums1 = []\n",
    "print(\"Average of nums1:\",avg(nums1))\n"
   ]
  },
  {
   "cell_type": "markdown",
   "id": "9840953d-f365-4482-938b-048240ba56d5",
   "metadata": {},
   "source": [
    "2. When you **test floating values**, you have to understand that floats are very imprecise. Calculations usuaklky result in adidtional loss of precisions. For this, when dealing with floats you never care about the exact value of a float."
   ]
  },
  {
   "cell_type": "code",
   "execution_count": 9,
   "id": "aa802363-3af7-4a16-87e1-3d53ddf995a7",
   "metadata": {},
   "outputs": [
    {
     "ename": "AssertionError",
     "evalue": "",
     "output_type": "error",
     "traceback": [
      "\u001b[1;31m---------------------------------------------------------------------------\u001b[0m",
      "\u001b[1;31mAssertionError\u001b[0m                            Traceback (most recent call last)",
      "Input \u001b[1;32mIn [9]\u001b[0m, in \u001b[0;36m<cell line: 3>\u001b[1;34m()\u001b[0m\n\u001b[0;32m      1\u001b[0m \u001b[38;5;28;01mfrom\u001b[39;00m \u001b[38;5;21;01mmath\u001b[39;00m \u001b[38;5;28;01mimport\u001b[39;00m isclose\n\u001b[1;32m----> 3\u001b[0m \u001b[38;5;28;01massert\u001b[39;00m isclose(\u001b[38;5;241m1\u001b[39m \u001b[38;5;241m/\u001b[39m \u001b[38;5;241m6\u001b[39m , \u001b[38;5;241m0.16666667\u001b[39m)\n",
      "\u001b[1;31mAssertionError\u001b[0m: "
     ]
    }
   ],
   "source": [
    "from math import isclose\n",
    "\n",
    "assert isclose(1 / 6 , 0.16666667)"
   ]
  },
  {
   "cell_type": "markdown",
   "id": "f6429cd5-3bff-4009-9a5b-041e0d0b4245",
   "metadata": {},
   "source": [
    "3. **Import Statements** are statements that allow us to access code in a module. Modules are codes that can be reused in other programs like \"math\" amd \"random\". "
   ]
  },
  {
   "cell_type": "code",
   "execution_count": 11,
   "id": "81fe5f81-254b-4a0d-bfdc-2158199f5550",
   "metadata": {},
   "outputs": [
    {
     "data": {
      "text/plain": [
       "3.912023005428146"
      ]
     },
     "execution_count": 11,
     "metadata": {},
     "output_type": "execute_result"
    }
   ],
   "source": [
    "#Flavor 3 import statement\n",
    "import math \n",
    "#This imports the math module to do mathematical equations.\n",
    "math.log(50)"
   ]
  }
 ],
 "metadata": {
  "kernelspec": {
   "display_name": "Python 3 (ipykernel)",
   "language": "python",
   "name": "python3"
  },
  "language_info": {
   "codemirror_mode": {
    "name": "ipython",
    "version": 3
   },
   "file_extension": ".py",
   "mimetype": "text/x-python",
   "name": "python",
   "nbconvert_exporter": "python",
   "pygments_lexer": "ipython3",
   "version": "3.10.6"
  }
 },
 "nbformat": 4,
 "nbformat_minor": 5
}
