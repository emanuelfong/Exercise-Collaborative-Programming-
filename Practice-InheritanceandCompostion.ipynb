{
 "cells": [
  {
   "cell_type": "markdown",
   "id": "1d9467d3-3efd-4346-a26e-700157dbc4dc",
   "metadata": {},
   "source": [
    "1. An **inheritance** is a concept in Python that allows us to define a class that uses other methods and properties from another class. In an inheritance, the **child class** inherits the **Parent class**. "
   ]
  },
  {
   "cell_type": "code",
   "execution_count": 2,
   "id": "767a7a3f-7786-45d3-a57d-a2c048fb8d19",
   "metadata": {},
   "outputs": [
    {
     "name": "stdout",
     "output_type": "stream",
     "text": [
      "Email sent by Aric\n"
     ]
    }
   ],
   "source": [
    "class Email():\n",
    "    def __init__(self,sender):\n",
    "        self.sender = sender\n",
    "        \n",
    "class Sent(Email):\n",
    "    def send(self):\n",
    "        print(\"Email sent by \" + self.sender)\n",
    "        \n",
    "sent = Sent(\"Aric\")\n",
    "sent.send()"
   ]
  },
  {
   "cell_type": "markdown",
   "id": "42eb930d-e706-4cad-b3f5-cea2f4105ccb",
   "metadata": {},
   "source": [
    "1. **Compostion** is a concept in python that combines different types of objects to create a singlur outcome of code."
   ]
  },
  {
   "cell_type": "code",
   "execution_count": 30,
   "id": "f9a1bfa8-f532-44c0-abd2-7ab87438f3b3",
   "metadata": {},
   "outputs": [
    {
     "name": "stdout",
     "output_type": "stream",
     "text": [
      "Email sent by Aric\n",
      "Email sent on 10/17/22\n"
     ]
    }
   ],
   "source": [
    "class Email():\n",
    "    def __init__(self,sender):\n",
    "        self.sender = sender\n",
    "    def Sent(self):\n",
    "        def __init__(self):\n",
    "                    print(\"Email sent by \" + self.sender)\n",
    "\n",
    "class Information():\n",
    "    def __init__(self, date):\n",
    "         self.date = date\n",
    "    def date_sent(self):\n",
    "        print(\"Email sent on \" + self.date)\n",
    "\n",
    "            \n",
    "sent = Sent(\"Aric\")\n",
    "date = Information(\"10/17/22\")\n",
    "sent.send()\n",
    "date.date_sent()"
   ]
  },
  {
   "cell_type": "code",
   "execution_count": null,
   "id": "228fc1aa-d46e-4b77-840c-32b845d9d476",
   "metadata": {},
   "outputs": [],
   "source": []
  }
 ],
 "metadata": {
  "kernelspec": {
   "display_name": "Python 3 (ipykernel)",
   "language": "python",
   "name": "python3"
  },
  "language_info": {
   "codemirror_mode": {
    "name": "ipython",
    "version": 3
   },
   "file_extension": ".py",
   "mimetype": "text/x-python",
   "name": "python",
   "nbconvert_exporter": "python",
   "pygments_lexer": "ipython3",
   "version": "3.10.6"
  }
 },
 "nbformat": 4,
 "nbformat_minor": 5
}
