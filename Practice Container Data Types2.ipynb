{
 "cells": [
  {
   "cell_type": "markdown",
   "id": "50d81533-9a39-4cf4-aa05-240f555939a1",
   "metadata": {},
   "source": [
    "1. **Lambda expressions** are used to creat anonymous functions which are simple functions that take arguments and return the reslut of a single expression.\n",
    "Here is an example:"
   ]
  },
  {
   "cell_type": "code",
   "execution_count": 9,
   "id": "4100d328-5c51-4518-8edd-ea9b7ae2bae4",
   "metadata": {},
   "outputs": [
    {
     "name": "stdout",
     "output_type": "stream",
     "text": [
      "Adam's favorite food is beans\n",
      "Patricia's favorite food is lumpia\n",
      "Emanuel's favorite food is pizza\n"
     ]
    }
   ],
   "source": [
    "#The lambda expression will sort a list of tuples with their favorite food.\n",
    "lambda f: f[1]\n",
    "favorite_foods = [(\"Emanuel\" , \"pizza\") , (\"Patricia\" , \"lumpia\") , (\"Adam\", \"beans\")]\n",
    "for name, food in sorted(favorite_foods , key=lambda f: f[1]):\n",
    "    print(f\"{name}'s favorite food is {food}\")"
   ]
  },
  {
   "cell_type": "markdown",
   "id": "a2e4b550-c832-4665-9c40-2da9e46d2e0f",
   "metadata": {},
   "source": [
    "2. **List comprehension** gives us Python users a way to write less code when trying to use a or create a list of variables.\n",
    "Here is an example:"
   ]
  },
  {
   "cell_type": "code",
   "execution_count": 4,
   "id": "d6bd6658-6c56-4517-90cb-3b47596bd3c6",
   "metadata": {},
   "outputs": [
    {
     "name": "stdout",
     "output_type": "stream",
     "text": [
      "['11', '20', '33', '23']\n"
     ]
    }
   ],
   "source": [
    "#The list comprenshion will turn my list of integers to  a list of strings\n",
    "int_list = [11 , 20, 33, 23]\n",
    "str_list = [str(i) for i in int_list]\n",
    "print(str_list)"
   ]
  }
 ],
 "metadata": {
  "kernelspec": {
   "display_name": "Python 3 (ipykernel)",
   "language": "python",
   "name": "python3"
  },
  "language_info": {
   "codemirror_mode": {
    "name": "ipython",
    "version": 3
   },
   "file_extension": ".py",
   "mimetype": "text/x-python",
   "name": "python",
   "nbconvert_exporter": "python",
   "pygments_lexer": "ipython3",
   "version": "3.10.6"
  }
 },
 "nbformat": 4,
 "nbformat_minor": 5
}
